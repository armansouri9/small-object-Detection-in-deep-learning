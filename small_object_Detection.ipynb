{
  "cells": [
    {
      "cell_type": "code",
      "execution_count": null,
      "metadata": {
        "colab": {
          "base_uri": "https://localhost:8080/"
        },
        "id": "6SN4rjJYHCBP",
        "outputId": "20b961bc-d239-40a7-dff6-1ecf7e692a97"
      },
      "outputs": [
        {
          "name": "stdout",
          "output_type": "stream",
          "text": [
            "Drive already mounted at /content/drive; to attempt to forcibly remount, call drive.mount(\"/content/drive\", force_remount=True).\n"
          ]
        }
      ],
      "source": [
        "from google.colab import drive\n",
        "drive.mount('/content/drive')"
      ]
    },
    {
      "cell_type": "code",
      "execution_count": null,
      "metadata": {
        "id": "zDPAdZMTIEK5"
      },
      "outputs": [],
      "source": [
        "#!mkdir data\n",
        "#!unrar x /content/drive/MyDrive/birds_dataset_train.rar /content/data"
      ]
    },
    {
      "cell_type": "code",
      "execution_count": null,
      "metadata": {
        "id": "305cSJ98Jifk"
      },
      "outputs": [],
      "source": [
        "#!mkdir data\n",
        "#!unrar x /content/drive/MyDrive/birds_dataset_validation.rar /content/data"
      ]
    },
    {
      "cell_type": "code",
      "execution_count": null,
      "metadata": {
        "id": "fwXEdZOO3j2w"
      },
      "outputs": [],
      "source": [
        "#!pip install torchmetrics"
      ]
    },
    {
      "cell_type": "code",
      "execution_count": null,
      "metadata": {
        "colab": {
          "base_uri": "https://localhost:8080/",
          "height": 35
        },
        "id": "5S0exe33N8u6",
        "outputId": "d5adb5ee-3a04-4f66-d35e-daf6106543d3"
      },
      "outputs": [
        {
          "data": {
            "application/vnd.google.colaboratory.intrinsic+json": {
              "type": "string"
            },
            "text/plain": [
              "'cuda'"
            ]
          },
          "execution_count": 5,
          "metadata": {},
          "output_type": "execute_result"
        }
      ],
      "source": [
        "import os\n",
        "import pandas as pd\n",
        "import glob\n",
        "from PIL import Image\n",
        "from torchmetrics.detection.mean_ap import MeanAveragePrecision\n",
        "from pprint import pprint\n",
        "from tqdm import tqdm\n",
        "import matplotlib.patches as patches\n",
        "import matplotlib.pyplot as plt\n",
        "from torchvision.transforms import functional as F\n",
        "import torch\n",
        "from PIL import Image\n",
        "import numpy as np\n",
        "import torchvision\n",
        "from matplotlib.pyplot import figure\n",
        "device = 'cuda' if torch.cuda.is_available() else 'cpu'\n",
        "device"
      ]
    },
    {
      "cell_type": "code",
      "execution_count": null,
      "metadata": {
        "colab": {
          "base_uri": "https://localhost:8080/"
        },
        "id": "l43n-SbREMxs",
        "outputId": "d3489431-465c-4f13-a699-73833d539a06"
      },
      "outputs": [
        {
          "name": "stdout",
          "output_type": "stream",
          "text": [
            "rm: cannot remove '/content/drive/MyDrive/*.png': No such file or directory\n"
          ]
        }
      ],
      "source": [
        "!rm /content/drive/MyDrive/*.png"
      ]
    },
    {
      "cell_type": "code",
      "execution_count": null,
      "metadata": {
        "id": "MfFNar1kTeRE"
      },
      "outputs": [],
      "source": [
        "def yolo_to_pascal_voc(x_center, y_center, w, h,  image_w, image_h):\n",
        "    w = w * image_w\n",
        "    h = h * image_h\n",
        "    x1 = ((2 * x_center * image_w) - w)/2\n",
        "    y1 = ((2 * y_center * image_h) - h)/2\n",
        "    x2 = x1 + w\n",
        "    y2 = y1 + h\n",
        "    return [x1, y1, x2, y2]"
      ]
    },
    {
      "cell_type": "code",
      "execution_count": null,
      "metadata": {
        "id": "JjmiaxZoy3Uh"
      },
      "outputs": [],
      "source": [
        "train_limit=500\n",
        "valid_limit=10"
      ]
    },
    {
      "cell_type": "code",
      "execution_count": null,
      "metadata": {
        "id": "o5i2yr7pTBZ6"
      },
      "outputs": [],
      "source": [
        "!rm /content/drive/MyDrive/rcnn_dataset/data/train/train_labels.csv\n",
        "!rm /content/drive/MyDrive/rcnn_dataset/data/validation/validation_labels.csv"
      ]
    },
    {
      "cell_type": "code",
      "execution_count": null,
      "metadata": {
        "id": "iq30rJeYN5Ba"
      },
      "outputs": [],
      "source": [
        "os.chdir(r'/content/drive/MyDrive/rcnn_dataset/data/train/annotations')\n",
        "myFiles = glob.glob('*.txt')"
      ]
    },
    {
      "cell_type": "code",
      "execution_count": null,
      "metadata": {
        "id": "ebjFg--QKD1L"
      },
      "outputs": [],
      "source": [
        "final_df=[]\n",
        "k=0\n",
        "for item in myFiles:\n",
        "    k+=1\n",
        "    if k>=train_limit:\n",
        "      break\n",
        "    try:\n",
        "      img=Image.open(\"/content/drive/MyDrive/rcnn_dataset/data/train/sequences/\"+item[0:-3]+'jpg')  \n",
        "      with open(item, 'rt') as fd:\n",
        "          for first_line in fd.readlines():\n",
        "            row=[]\n",
        "            bbox_temp=[]\n",
        "            splited = first_line.split();\n",
        "            row.append(item[0:-3]+'jpg')\n",
        "            try:\n",
        "                x1,y1,x2,y2=yolo_to_pascal_voc(float(splited[1]),float(splited[2]),float(splited[3]),float(splited[4]),img.size[0],img.size[1])\n",
        "                bbox_temp.append(float(x1))\n",
        "                bbox_temp.append(float(y1))\n",
        "                bbox_temp.append(float(x2))\n",
        "                bbox_temp.append(float(y2))\n",
        "                row.append(bbox_temp)\n",
        "                final_df.append(row)\n",
        "                \n",
        "            except:\n",
        "                print(\"file is not in YOLO format!\")\n",
        "    except:\n",
        "      pass \n",
        "df = pd.DataFrame(final_df,columns=['image','bbox'])\n",
        "df.to_csv(\"/content/drive/MyDrive/rcnn_dataset/data/train/train_labels.csv\",index=False)"
      ]
    },
    {
      "cell_type": "code",
      "execution_count": null,
      "metadata": {
        "id": "iRC0MJmERsdB"
      },
      "outputs": [],
      "source": [
        "os.chdir(r'/content/drive/MyDrive/rcnn_dataset/data/validation/annotations')\n",
        "myFiles = glob.glob('*.txt')"
      ]
    },
    {
      "cell_type": "code",
      "execution_count": null,
      "metadata": {
        "id": "Ndbi7Wd_Rutn"
      },
      "outputs": [],
      "source": [
        "final_df=[]\n",
        "k=0\n",
        "for item in myFiles:\n",
        "    k+=1\n",
        "    if k>=valid_limit:\n",
        "      break\n",
        "    try:\n",
        "      img=Image.open(\"/content/drive/MyDrive/rcnn_dataset/data/validation/sequences/\"+item[0:-3]+'jpg') \n",
        "      with open(item, 'rt') as fd:\n",
        "          for first_line in fd.readlines():\n",
        "            row=[]\n",
        "            bbox_temp=[]\n",
        "            splited = first_line.split();\n",
        "\n",
        "            row.append(item[0:-3]+'jpg')\n",
        "            try:\n",
        "                x1,y1,x2,y2=yolo_to_pascal_voc(float(splited[1]),float(splited[2]),float(splited[3]),float(splited[4]),img.size[0],img.size[1])\n",
        "                bbox_temp.append(float(x1))\n",
        "                bbox_temp.append(float(y1))\n",
        "                bbox_temp.append(float(x2))\n",
        "                bbox_temp.append(float(y2))\n",
        "                row.append(bbox_temp)\n",
        "                final_df.append(row)\n",
        "            except:\n",
        "                print(\"file is not in YOLO format!\")\n",
        "    except:\n",
        "      pass\n",
        "df = pd.DataFrame(final_df,columns=['image','bbox'])\n",
        "df.to_csv(\"/content/drive/MyDrive/rcnn_dataset/data/validation/validation_labels.csv\",index=False)"
      ]
    },
    {
      "cell_type": "code",
      "execution_count": null,
      "metadata": {
        "id": "u6j5LmxLWM56"
      },
      "outputs": [],
      "source": [
        "class BirdsDataset(torch.utils.data.Dataset):\n",
        "  def __init__(self, root, phase):\n",
        "    self.root = root\n",
        "    self.phase = phase\n",
        "\n",
        "    self.targets = pd.read_csv(os.path.join(root, '{}_labels.csv'.format(phase)))\n",
        "    self.imgs = list(dict.fromkeys(self.targets['image']))\n",
        "    \n",
        "\n",
        "  def __getitem__(self, idx):\n",
        "    img_path = os.path.join(self.root, 'sequences', self.imgs[idx])\n",
        "    img = Image.open(img_path).convert('RGB')\n",
        "    img = F.to_tensor(img)\n",
        "    #\n",
        "    box_list = self.targets[self.targets['image'] == self.imgs[idx]]\n",
        "\n",
        "    \n",
        "    floats = [eval(x) for x in box_list['bbox'].values]\n",
        "    boxes =torch.tensor(floats, dtype=torch.float32)\n",
        "    \n",
        "\n",
        "    #\n",
        "    labels = torch.ones((len(box_list), ), dtype=torch.int64)\n",
        "    #\n",
        "    target = {}\n",
        "    target['boxes'] = boxes\n",
        "    target['labels'] = labels\n",
        "    #\n",
        "\n",
        "    return img, target\n",
        "\n",
        "  def __len__(self):\n",
        "    return len(self.imgs)"
      ]
    },
    {
      "cell_type": "code",
      "execution_count": null,
      "metadata": {
        "colab": {
          "base_uri": "https://localhost:8080/"
        },
        "id": "HP3u3ULMXqQN",
        "outputId": "c307c431-254c-4457-fb35-2fd7e833d6bf"
      },
      "outputs": [
        {
          "name": "stdout",
          "output_type": "stream",
          "text": [
            "train len : 499\n",
            "Valid len : 9\n"
          ]
        }
      ],
      "source": [
        "train_dataset = BirdsDataset('/content/drive/MyDrive/rcnn_dataset/data/train', 'train')\n",
        "\n",
        "valid_dataset = BirdsDataset('/content/drive/MyDrive/rcnn_dataset/data/validation', 'validation')\n",
        "\n",
        "print(\"train len :\",train_dataset.__len__())\n",
        "print(\"Valid len :\",valid_dataset.__len__())\n",
        "\n",
        "#print(train_dataset.__getitem__(1))\n",
        "#print(valid_dataset.__getitem__(1))\n"
      ]
    },
    {
      "cell_type": "code",
      "execution_count": null,
      "metadata": {
        "id": "Hvd6FnyMiwW1"
      },
      "outputs": [],
      "source": [
        "def new_concat(batch):\n",
        "  return tuple(zip(*batch))\n",
        "train_loader = torch.utils.data.DataLoader(train_dataset,\n",
        "                            batch_size=1,\n",
        "                            shuffle=True,\n",
        "                            collate_fn=new_concat)\n",
        "\n",
        "valid_loader = torch.utils.data.DataLoader(valid_dataset,\n",
        "                            batch_size=1,\n",
        "                            shuffle=True,\n",
        "                            collate_fn=new_concat)"
      ]
    },
    {
      "cell_type": "code",
      "execution_count": null,
      "metadata": {
        "colab": {
          "base_uri": "https://localhost:8080/"
        },
        "id": "iisMuB5Xi2nO",
        "outputId": "0c9b74d2-df1f-48f8-9d65-c7a557c070ab"
      },
      "outputs": [
        {
          "data": {
            "text/plain": [
              "((tensor([[[0.1020, 0.1020, 0.1020,  ..., 0.1765, 0.1765, 0.1765],\n",
              "           [0.1020, 0.1020, 0.1020,  ..., 0.1765, 0.1765, 0.1765],\n",
              "           [0.1020, 0.1020, 0.1020,  ..., 0.1765, 0.1765, 0.1765],\n",
              "           ...,\n",
              "           [0.0980, 0.0941, 0.0941,  ..., 0.0980, 0.0980, 0.0980],\n",
              "           [0.0980, 0.0941, 0.0941,  ..., 0.0980, 0.0980, 0.0980],\n",
              "           [0.0980, 0.0941, 0.0941,  ..., 0.0980, 0.0980, 0.0980]],\n",
              "  \n",
              "          [[0.1137, 0.1137, 0.1137,  ..., 0.1608, 0.1608, 0.1608],\n",
              "           [0.1137, 0.1137, 0.1137,  ..., 0.1608, 0.1608, 0.1608],\n",
              "           [0.1137, 0.1137, 0.1137,  ..., 0.1608, 0.1608, 0.1608],\n",
              "           ...,\n",
              "           [0.1451, 0.1412, 0.1412,  ..., 0.1412, 0.1412, 0.1412],\n",
              "           [0.1451, 0.1412, 0.1412,  ..., 0.1412, 0.1412, 0.1412],\n",
              "           [0.1451, 0.1412, 0.1412,  ..., 0.1412, 0.1412, 0.1412]],\n",
              "  \n",
              "          [[0.0706, 0.0706, 0.0706,  ..., 0.1176, 0.1176, 0.1176],\n",
              "           [0.0706, 0.0706, 0.0706,  ..., 0.1176, 0.1176, 0.1176],\n",
              "           [0.0706, 0.0706, 0.0706,  ..., 0.1176, 0.1176, 0.1176],\n",
              "           ...,\n",
              "           [0.0980, 0.0941, 0.0941,  ..., 0.1098, 0.1098, 0.1098],\n",
              "           [0.0980, 0.0941, 0.0941,  ..., 0.1098, 0.1098, 0.1098],\n",
              "           [0.0980, 0.0941, 0.0941,  ..., 0.1098, 0.1098, 0.1098]]]),),\n",
              " ({'boxes': tensor([[1134.9005,  752.3202, 1230.7008,  873.6006],\n",
              "           [ 635.1907,  846.2208,  674.0611,  877.4904],\n",
              "           [ 931.6099,  768.0000,  968.7600,  803.2200],\n",
              "           [ 378.5693, 1044.3396,  429.3398, 1097.2500],\n",
              "           [ 423.1306,  741.6900,  470.0304,  786.6396],\n",
              "           [ 316.7299,  899.6604,  339.7603,  932.5404],\n",
              "           [ 429.7699,  881.8194,  457.8499,  916.9998],\n",
              "           [ 330.5894, 1046.5200,  369.2697, 1086.2496],\n",
              "           [ 245.8589,  849.6804,  281.1696,  878.3700],\n",
              "           [1153.7904,  207.0300, 1178.0995,  268.8996],\n",
              "           [1160.8599,   84.9006, 1185.0999,  134.4306],\n",
              "           [1193.9607,   88.0794, 1220.4010,  137.5998],\n",
              "           [1096.8989,  262.4298, 1112.9098,  278.3094],\n",
              "           [ 560.5603,  835.0602,  610.5399,  868.8102],\n",
              "           [ 986.5306,  694.9698, 1002.1401,  710.7798],\n",
              "           [1152.4810,    1.9200, 1177.8806,   35.1504],\n",
              "           [1369.1002,  466.8702, 1388.9607,  488.3706]]),\n",
              "   'labels': tensor([1, 1, 1, 1, 1, 1, 1, 1, 1, 1, 1, 1, 1, 1, 1, 1, 1])},))"
            ]
          },
          "execution_count": 17,
          "metadata": {},
          "output_type": "execute_result"
        }
      ],
      "source": [
        "next(iter(train_loader))"
      ]
    },
    {
      "cell_type": "code",
      "execution_count": null,
      "metadata": {
        "colab": {
          "base_uri": "https://localhost:8080/",
          "height": 1000,
          "referenced_widgets": [
            "389dfcb346e146359d9724c907c43e0a",
            "d7c35cc1a11c4a02bd8540beb1e64deb",
            "4ef9d029058d412d8a60092c02f12b38",
            "08b86d585d0e4f04af49c761647d24a6",
            "ebb74caa5ae54fa8b671e11ab389566f",
            "e254392fc242426ca953e846e9950f60",
            "5540a821425b42c684a6b81f40b31665",
            "0172c15cbcfd410b8312f74ae56fa49f",
            "090bd994095641dca6ecad666d59c138",
            "3482e6827d374d52bb2c78edf62109ad",
            "618b48cbed3545b89c7e4e1a8bf556b7"
          ]
        },
        "id": "fmzvjnMUjFpu",
        "outputId": "67420649-393a-4878-ec42-4a9eda9772a0"
      },
      "outputs": [
        {
          "name": "stderr",
          "output_type": "stream",
          "text": [
            "/usr/local/lib/python3.7/dist-packages/torchvision/models/_utils.py:209: UserWarning: The parameter 'pretrained' is deprecated since 0.13 and will be removed in 0.15, please use 'weights' instead.\n",
            "  f\"The parameter '{pretrained_param}' is deprecated since 0.13 and will be removed in 0.15, \"\n",
            "/usr/local/lib/python3.7/dist-packages/torchvision/models/_utils.py:223: UserWarning: Arguments other than a weight enum or `None` for 'weights' are deprecated since 0.13 and will be removed in 0.15. The current behavior is equivalent to passing `weights=FasterRCNN_ResNet50_FPN_Weights.COCO_V1`. You can also use `weights=FasterRCNN_ResNet50_FPN_Weights.DEFAULT` to get the most up-to-date weights.\n",
            "  warnings.warn(msg)\n",
            "Downloading: \"https://download.pytorch.org/models/fasterrcnn_resnet50_fpn_coco-258fb6c6.pth\" to /root/.cache/torch/hub/checkpoints/fasterrcnn_resnet50_fpn_coco-258fb6c6.pth\n"
          ]
        },
        {
          "data": {
            "application/vnd.jupyter.widget-view+json": {
              "model_id": "389dfcb346e146359d9724c907c43e0a",
              "version_major": 2,
              "version_minor": 0
            },
            "text/plain": [
              "  0%|          | 0.00/160M [00:00<?, ?B/s]"
            ]
          },
          "metadata": {},
          "output_type": "display_data"
        },
        {
          "data": {
            "text/plain": [
              "FasterRCNN(\n",
              "  (transform): GeneralizedRCNNTransform(\n",
              "      Normalize(mean=[0.485, 0.456, 0.406], std=[0.229, 0.224, 0.225])\n",
              "      Resize(min_size=(800,), max_size=1333, mode='bilinear')\n",
              "  )\n",
              "  (backbone): BackboneWithFPN(\n",
              "    (body): IntermediateLayerGetter(\n",
              "      (conv1): Conv2d(3, 64, kernel_size=(7, 7), stride=(2, 2), padding=(3, 3), bias=False)\n",
              "      (bn1): FrozenBatchNorm2d(64, eps=0.0)\n",
              "      (relu): ReLU(inplace=True)\n",
              "      (maxpool): MaxPool2d(kernel_size=3, stride=2, padding=1, dilation=1, ceil_mode=False)\n",
              "      (layer1): Sequential(\n",
              "        (0): Bottleneck(\n",
              "          (conv1): Conv2d(64, 64, kernel_size=(1, 1), stride=(1, 1), bias=False)\n",
              "          (bn1): FrozenBatchNorm2d(64, eps=0.0)\n",
              "          (conv2): Conv2d(64, 64, kernel_size=(3, 3), stride=(1, 1), padding=(1, 1), bias=False)\n",
              "          (bn2): FrozenBatchNorm2d(64, eps=0.0)\n",
              "          (conv3): Conv2d(64, 256, kernel_size=(1, 1), stride=(1, 1), bias=False)\n",
              "          (bn3): FrozenBatchNorm2d(256, eps=0.0)\n",
              "          (relu): ReLU(inplace=True)\n",
              "          (downsample): Sequential(\n",
              "            (0): Conv2d(64, 256, kernel_size=(1, 1), stride=(1, 1), bias=False)\n",
              "            (1): FrozenBatchNorm2d(256, eps=0.0)\n",
              "          )\n",
              "        )\n",
              "        (1): Bottleneck(\n",
              "          (conv1): Conv2d(256, 64, kernel_size=(1, 1), stride=(1, 1), bias=False)\n",
              "          (bn1): FrozenBatchNorm2d(64, eps=0.0)\n",
              "          (conv2): Conv2d(64, 64, kernel_size=(3, 3), stride=(1, 1), padding=(1, 1), bias=False)\n",
              "          (bn2): FrozenBatchNorm2d(64, eps=0.0)\n",
              "          (conv3): Conv2d(64, 256, kernel_size=(1, 1), stride=(1, 1), bias=False)\n",
              "          (bn3): FrozenBatchNorm2d(256, eps=0.0)\n",
              "          (relu): ReLU(inplace=True)\n",
              "        )\n",
              "        (2): Bottleneck(\n",
              "          (conv1): Conv2d(256, 64, kernel_size=(1, 1), stride=(1, 1), bias=False)\n",
              "          (bn1): FrozenBatchNorm2d(64, eps=0.0)\n",
              "          (conv2): Conv2d(64, 64, kernel_size=(3, 3), stride=(1, 1), padding=(1, 1), bias=False)\n",
              "          (bn2): FrozenBatchNorm2d(64, eps=0.0)\n",
              "          (conv3): Conv2d(64, 256, kernel_size=(1, 1), stride=(1, 1), bias=False)\n",
              "          (bn3): FrozenBatchNorm2d(256, eps=0.0)\n",
              "          (relu): ReLU(inplace=True)\n",
              "        )\n",
              "      )\n",
              "      (layer2): Sequential(\n",
              "        (0): Bottleneck(\n",
              "          (conv1): Conv2d(256, 128, kernel_size=(1, 1), stride=(1, 1), bias=False)\n",
              "          (bn1): FrozenBatchNorm2d(128, eps=0.0)\n",
              "          (conv2): Conv2d(128, 128, kernel_size=(3, 3), stride=(2, 2), padding=(1, 1), bias=False)\n",
              "          (bn2): FrozenBatchNorm2d(128, eps=0.0)\n",
              "          (conv3): Conv2d(128, 512, kernel_size=(1, 1), stride=(1, 1), bias=False)\n",
              "          (bn3): FrozenBatchNorm2d(512, eps=0.0)\n",
              "          (relu): ReLU(inplace=True)\n",
              "          (downsample): Sequential(\n",
              "            (0): Conv2d(256, 512, kernel_size=(1, 1), stride=(2, 2), bias=False)\n",
              "            (1): FrozenBatchNorm2d(512, eps=0.0)\n",
              "          )\n",
              "        )\n",
              "        (1): Bottleneck(\n",
              "          (conv1): Conv2d(512, 128, kernel_size=(1, 1), stride=(1, 1), bias=False)\n",
              "          (bn1): FrozenBatchNorm2d(128, eps=0.0)\n",
              "          (conv2): Conv2d(128, 128, kernel_size=(3, 3), stride=(1, 1), padding=(1, 1), bias=False)\n",
              "          (bn2): FrozenBatchNorm2d(128, eps=0.0)\n",
              "          (conv3): Conv2d(128, 512, kernel_size=(1, 1), stride=(1, 1), bias=False)\n",
              "          (bn3): FrozenBatchNorm2d(512, eps=0.0)\n",
              "          (relu): ReLU(inplace=True)\n",
              "        )\n",
              "        (2): Bottleneck(\n",
              "          (conv1): Conv2d(512, 128, kernel_size=(1, 1), stride=(1, 1), bias=False)\n",
              "          (bn1): FrozenBatchNorm2d(128, eps=0.0)\n",
              "          (conv2): Conv2d(128, 128, kernel_size=(3, 3), stride=(1, 1), padding=(1, 1), bias=False)\n",
              "          (bn2): FrozenBatchNorm2d(128, eps=0.0)\n",
              "          (conv3): Conv2d(128, 512, kernel_size=(1, 1), stride=(1, 1), bias=False)\n",
              "          (bn3): FrozenBatchNorm2d(512, eps=0.0)\n",
              "          (relu): ReLU(inplace=True)\n",
              "        )\n",
              "        (3): Bottleneck(\n",
              "          (conv1): Conv2d(512, 128, kernel_size=(1, 1), stride=(1, 1), bias=False)\n",
              "          (bn1): FrozenBatchNorm2d(128, eps=0.0)\n",
              "          (conv2): Conv2d(128, 128, kernel_size=(3, 3), stride=(1, 1), padding=(1, 1), bias=False)\n",
              "          (bn2): FrozenBatchNorm2d(128, eps=0.0)\n",
              "          (conv3): Conv2d(128, 512, kernel_size=(1, 1), stride=(1, 1), bias=False)\n",
              "          (bn3): FrozenBatchNorm2d(512, eps=0.0)\n",
              "          (relu): ReLU(inplace=True)\n",
              "        )\n",
              "      )\n",
              "      (layer3): Sequential(\n",
              "        (0): Bottleneck(\n",
              "          (conv1): Conv2d(512, 256, kernel_size=(1, 1), stride=(1, 1), bias=False)\n",
              "          (bn1): FrozenBatchNorm2d(256, eps=0.0)\n",
              "          (conv2): Conv2d(256, 256, kernel_size=(3, 3), stride=(2, 2), padding=(1, 1), bias=False)\n",
              "          (bn2): FrozenBatchNorm2d(256, eps=0.0)\n",
              "          (conv3): Conv2d(256, 1024, kernel_size=(1, 1), stride=(1, 1), bias=False)\n",
              "          (bn3): FrozenBatchNorm2d(1024, eps=0.0)\n",
              "          (relu): ReLU(inplace=True)\n",
              "          (downsample): Sequential(\n",
              "            (0): Conv2d(512, 1024, kernel_size=(1, 1), stride=(2, 2), bias=False)\n",
              "            (1): FrozenBatchNorm2d(1024, eps=0.0)\n",
              "          )\n",
              "        )\n",
              "        (1): Bottleneck(\n",
              "          (conv1): Conv2d(1024, 256, kernel_size=(1, 1), stride=(1, 1), bias=False)\n",
              "          (bn1): FrozenBatchNorm2d(256, eps=0.0)\n",
              "          (conv2): Conv2d(256, 256, kernel_size=(3, 3), stride=(1, 1), padding=(1, 1), bias=False)\n",
              "          (bn2): FrozenBatchNorm2d(256, eps=0.0)\n",
              "          (conv3): Conv2d(256, 1024, kernel_size=(1, 1), stride=(1, 1), bias=False)\n",
              "          (bn3): FrozenBatchNorm2d(1024, eps=0.0)\n",
              "          (relu): ReLU(inplace=True)\n",
              "        )\n",
              "        (2): Bottleneck(\n",
              "          (conv1): Conv2d(1024, 256, kernel_size=(1, 1), stride=(1, 1), bias=False)\n",
              "          (bn1): FrozenBatchNorm2d(256, eps=0.0)\n",
              "          (conv2): Conv2d(256, 256, kernel_size=(3, 3), stride=(1, 1), padding=(1, 1), bias=False)\n",
              "          (bn2): FrozenBatchNorm2d(256, eps=0.0)\n",
              "          (conv3): Conv2d(256, 1024, kernel_size=(1, 1), stride=(1, 1), bias=False)\n",
              "          (bn3): FrozenBatchNorm2d(1024, eps=0.0)\n",
              "          (relu): ReLU(inplace=True)\n",
              "        )\n",
              "        (3): Bottleneck(\n",
              "          (conv1): Conv2d(1024, 256, kernel_size=(1, 1), stride=(1, 1), bias=False)\n",
              "          (bn1): FrozenBatchNorm2d(256, eps=0.0)\n",
              "          (conv2): Conv2d(256, 256, kernel_size=(3, 3), stride=(1, 1), padding=(1, 1), bias=False)\n",
              "          (bn2): FrozenBatchNorm2d(256, eps=0.0)\n",
              "          (conv3): Conv2d(256, 1024, kernel_size=(1, 1), stride=(1, 1), bias=False)\n",
              "          (bn3): FrozenBatchNorm2d(1024, eps=0.0)\n",
              "          (relu): ReLU(inplace=True)\n",
              "        )\n",
              "        (4): Bottleneck(\n",
              "          (conv1): Conv2d(1024, 256, kernel_size=(1, 1), stride=(1, 1), bias=False)\n",
              "          (bn1): FrozenBatchNorm2d(256, eps=0.0)\n",
              "          (conv2): Conv2d(256, 256, kernel_size=(3, 3), stride=(1, 1), padding=(1, 1), bias=False)\n",
              "          (bn2): FrozenBatchNorm2d(256, eps=0.0)\n",
              "          (conv3): Conv2d(256, 1024, kernel_size=(1, 1), stride=(1, 1), bias=False)\n",
              "          (bn3): FrozenBatchNorm2d(1024, eps=0.0)\n",
              "          (relu): ReLU(inplace=True)\n",
              "        )\n",
              "        (5): Bottleneck(\n",
              "          (conv1): Conv2d(1024, 256, kernel_size=(1, 1), stride=(1, 1), bias=False)\n",
              "          (bn1): FrozenBatchNorm2d(256, eps=0.0)\n",
              "          (conv2): Conv2d(256, 256, kernel_size=(3, 3), stride=(1, 1), padding=(1, 1), bias=False)\n",
              "          (bn2): FrozenBatchNorm2d(256, eps=0.0)\n",
              "          (conv3): Conv2d(256, 1024, kernel_size=(1, 1), stride=(1, 1), bias=False)\n",
              "          (bn3): FrozenBatchNorm2d(1024, eps=0.0)\n",
              "          (relu): ReLU(inplace=True)\n",
              "        )\n",
              "      )\n",
              "      (layer4): Sequential(\n",
              "        (0): Bottleneck(\n",
              "          (conv1): Conv2d(1024, 512, kernel_size=(1, 1), stride=(1, 1), bias=False)\n",
              "          (bn1): FrozenBatchNorm2d(512, eps=0.0)\n",
              "          (conv2): Conv2d(512, 512, kernel_size=(3, 3), stride=(2, 2), padding=(1, 1), bias=False)\n",
              "          (bn2): FrozenBatchNorm2d(512, eps=0.0)\n",
              "          (conv3): Conv2d(512, 2048, kernel_size=(1, 1), stride=(1, 1), bias=False)\n",
              "          (bn3): FrozenBatchNorm2d(2048, eps=0.0)\n",
              "          (relu): ReLU(inplace=True)\n",
              "          (downsample): Sequential(\n",
              "            (0): Conv2d(1024, 2048, kernel_size=(1, 1), stride=(2, 2), bias=False)\n",
              "            (1): FrozenBatchNorm2d(2048, eps=0.0)\n",
              "          )\n",
              "        )\n",
              "        (1): Bottleneck(\n",
              "          (conv1): Conv2d(2048, 512, kernel_size=(1, 1), stride=(1, 1), bias=False)\n",
              "          (bn1): FrozenBatchNorm2d(512, eps=0.0)\n",
              "          (conv2): Conv2d(512, 512, kernel_size=(3, 3), stride=(1, 1), padding=(1, 1), bias=False)\n",
              "          (bn2): FrozenBatchNorm2d(512, eps=0.0)\n",
              "          (conv3): Conv2d(512, 2048, kernel_size=(1, 1), stride=(1, 1), bias=False)\n",
              "          (bn3): FrozenBatchNorm2d(2048, eps=0.0)\n",
              "          (relu): ReLU(inplace=True)\n",
              "        )\n",
              "        (2): Bottleneck(\n",
              "          (conv1): Conv2d(2048, 512, kernel_size=(1, 1), stride=(1, 1), bias=False)\n",
              "          (bn1): FrozenBatchNorm2d(512, eps=0.0)\n",
              "          (conv2): Conv2d(512, 512, kernel_size=(3, 3), stride=(1, 1), padding=(1, 1), bias=False)\n",
              "          (bn2): FrozenBatchNorm2d(512, eps=0.0)\n",
              "          (conv3): Conv2d(512, 2048, kernel_size=(1, 1), stride=(1, 1), bias=False)\n",
              "          (bn3): FrozenBatchNorm2d(2048, eps=0.0)\n",
              "          (relu): ReLU(inplace=True)\n",
              "        )\n",
              "      )\n",
              "    )\n",
              "    (fpn): FeaturePyramidNetwork(\n",
              "      (inner_blocks): ModuleList(\n",
              "        (0): Conv2dNormActivation(\n",
              "          (0): Conv2d(256, 256, kernel_size=(1, 1), stride=(1, 1))\n",
              "        )\n",
              "        (1): Conv2dNormActivation(\n",
              "          (0): Conv2d(512, 256, kernel_size=(1, 1), stride=(1, 1))\n",
              "        )\n",
              "        (2): Conv2dNormActivation(\n",
              "          (0): Conv2d(1024, 256, kernel_size=(1, 1), stride=(1, 1))\n",
              "        )\n",
              "        (3): Conv2dNormActivation(\n",
              "          (0): Conv2d(2048, 256, kernel_size=(1, 1), stride=(1, 1))\n",
              "        )\n",
              "      )\n",
              "      (layer_blocks): ModuleList(\n",
              "        (0): Conv2dNormActivation(\n",
              "          (0): Conv2d(256, 256, kernel_size=(3, 3), stride=(1, 1), padding=(1, 1))\n",
              "        )\n",
              "        (1): Conv2dNormActivation(\n",
              "          (0): Conv2d(256, 256, kernel_size=(3, 3), stride=(1, 1), padding=(1, 1))\n",
              "        )\n",
              "        (2): Conv2dNormActivation(\n",
              "          (0): Conv2d(256, 256, kernel_size=(3, 3), stride=(1, 1), padding=(1, 1))\n",
              "        )\n",
              "        (3): Conv2dNormActivation(\n",
              "          (0): Conv2d(256, 256, kernel_size=(3, 3), stride=(1, 1), padding=(1, 1))\n",
              "        )\n",
              "      )\n",
              "      (extra_blocks): LastLevelMaxPool()\n",
              "    )\n",
              "  )\n",
              "  (rpn): RegionProposalNetwork(\n",
              "    (anchor_generator): AnchorGenerator()\n",
              "    (head): RPNHead(\n",
              "      (conv): Sequential(\n",
              "        (0): Conv2dNormActivation(\n",
              "          (0): Conv2d(256, 256, kernel_size=(3, 3), stride=(1, 1), padding=(1, 1))\n",
              "          (1): ReLU(inplace=True)\n",
              "        )\n",
              "      )\n",
              "      (cls_logits): Conv2d(256, 3, kernel_size=(1, 1), stride=(1, 1))\n",
              "      (bbox_pred): Conv2d(256, 12, kernel_size=(1, 1), stride=(1, 1))\n",
              "    )\n",
              "  )\n",
              "  (roi_heads): RoIHeads(\n",
              "    (box_roi_pool): MultiScaleRoIAlign(featmap_names=['0', '1', '2', '3'], output_size=(7, 7), sampling_ratio=2)\n",
              "    (box_head): TwoMLPHead(\n",
              "      (fc6): Linear(in_features=12544, out_features=1024, bias=True)\n",
              "      (fc7): Linear(in_features=1024, out_features=1024, bias=True)\n",
              "    )\n",
              "    (box_predictor): FastRCNNPredictor(\n",
              "      (cls_score): Linear(in_features=1024, out_features=2, bias=True)\n",
              "      (bbox_pred): Linear(in_features=1024, out_features=8, bias=True)\n",
              "    )\n",
              "  )\n",
              ")"
            ]
          },
          "execution_count": 18,
          "metadata": {},
          "output_type": "execute_result"
        }
      ],
      "source": [
        "from torchvision.models.detection.rpn import AnchorGenerator\n",
        "\n",
        "#backbone=torchvision.models.mobilenet_v2(pretrained=True).features\n",
        "#modules = list(backbone.children())[0:1]\n",
        "#backbone = torch.nn.Sequential(*modules)\n",
        "\n",
        "#backbone.out_channels=1280\n",
        "\n",
        "\n",
        "'''anchor_generator = AnchorGenerator(\n",
        "        sizes=((32, 64, 128, 256, 512),),\n",
        "        aspect_ratios=((0.5, 1.0, 2.0),)\n",
        "    )'''\n",
        "\n",
        "    # Feature maps to perform RoI cropping.\n",
        "    # If backbone returns a Tensor, `featmap_names` is expected to\n",
        "    # be [0]. We can choose which feature maps to use.\n",
        "'''roi_pooler = torchvision.ops.MultiScaleRoIAlign(\n",
        "        featmap_names=['0'],\n",
        "        output_size=7,\n",
        "        sampling_ratio=2\n",
        "    )'''\n",
        "model = torchvision.models.detection.fasterrcnn_resnet50_fpn(pretrained=True)\n",
        "#model = torchvision.models.detection.FasterRCNN(backbone=backbone,num_classes=2,rpn_anchor_generator=anchor_generator,\n",
        "#        box_roi_pool=roi_pooler)\n",
        "\n",
        "model.roi_heads.box_predictor = torchvision.models.detection.faster_rcnn.FastRCNNPredictor(1024, 2)\n",
        "\n",
        "model.to(device)"
      ]
    },
    {
      "cell_type": "code",
      "execution_count": null,
      "metadata": {
        "colab": {
          "base_uri": "https://localhost:8080/",
          "height": 53
        },
        "id": "M2ah0p46YpDw",
        "outputId": "42bb1851-002a-43b0-960a-b980f43f2f2f"
      },
      "outputs": [
        {
          "data": {
            "application/vnd.google.colaboratory.intrinsic+json": {
              "type": "string"
            },
            "text/plain": [
              "'import torchvision\\nbackbone=torchvision.models.mobilenet_v2(pretrained=True).features\\nmodules = list(backbone.children())[0:3]  # delete the last fc layer.\\n#backbone_nn = nn.Sequential(*modules)\\nmodules'"
            ]
          },
          "execution_count": 19,
          "metadata": {},
          "output_type": "execute_result"
        }
      ],
      "source": [
        "'''import torchvision\n",
        "backbone=torchvision.models.mobilenet_v2(pretrained=True).features\n",
        "modules = list(backbone.children())[0:3]  # delete the last fc layer.\n",
        "#backbone_nn = nn.Sequential(*modules)\n",
        "modules'''"
      ]
    },
    {
      "cell_type": "code",
      "execution_count": null,
      "metadata": {
        "id": "ztv9y7Z3jVea"
      },
      "outputs": [],
      "source": [
        "optimizer = torch.optim.SGD(model.parameters(), lr=0.005,\n",
        "                            momentum=0.9, weight_decay=0.0005)\n",
        "\n",
        "lr_scheduler = torch.optim.lr_scheduler.StepLR(optimizer,\n",
        "                                               step_size=3,\n",
        "                                               gamma=0.1)\n",
        "metric = MeanAveragePrecision(iou_type=\"bbox\",iou_thresholds=[0.5])"
      ]
    },
    {
      "cell_type": "code",
      "execution_count": null,
      "metadata": {
        "id": "ElWDX3LkjX2p"
      },
      "outputs": [],
      "source": [
        "import math\n",
        "def train_one_epoch(model, optimizer, train_dataloader,valid_dataloader):\n",
        "    \n",
        "    model.train()\n",
        "    train_total_loss = 0\n",
        "    for images, targets in train_dataloader:\n",
        "        images = [image.to(device) for image in images]\n",
        "        targets = [{k: v.to(device) for k, v in t.items()} for t in targets]\n",
        "        loss_dict = model(images, targets)\n",
        "        losses = sum(loss for loss in loss_dict.values())\n",
        "        train_total_loss += losses\n",
        "        optimizer.zero_grad()\n",
        "        losses.backward()\n",
        "        optimizer.step()\n",
        "\n",
        "\n",
        "\n",
        "    valid_total_loss = 0\n",
        "    with torch.no_grad():\n",
        "      for images, targets in valid_dataloader:\n",
        "          images = [image.to(device) for image in images]\n",
        "          targets = [{k: v.to(device) for k, v in t.items()} for t in targets]\n",
        "          loss_dict = model(images, targets)\n",
        "          losses = sum(loss for loss in loss_dict.values())\n",
        "          valid_total_loss += losses\n",
        "    \n",
        "    '''model.eval()    \n",
        "    train_maps = 0\n",
        "    with torch.no_grad():\n",
        "      for images, targets in train_dataloader:\n",
        "         images = [image.to(device) for image in images]\n",
        "         targets = [{k: v.to(device) for k, v in t.items()} for t in targets]\n",
        "         pred = model(images, targets)\n",
        "         metric.update(pred, targets)\n",
        "         map=metric.compute()['map'].item()\n",
        "         train_maps+=map\n",
        "\n",
        "    val_maps = 0\n",
        "    with torch.no_grad():\n",
        "      for images, targets in valid_dataloader:\n",
        "         images = [image.to(device) for image in images]\n",
        "         targets = [{k: v.to(device) for k, v in t.items()} for t in targets]\n",
        "         pred = model(images, targets)\n",
        "         metric.update(pred, targets)\n",
        "         map=metric.compute()['map'].item()\n",
        "         val_maps+=map'''\n",
        "\n",
        "    return train_total_loss/len(train_dataloader),valid_total_loss/len(valid_dataloader)#,train_maps/len(train_dataloader),val_maps/len(valid_dataloader)"
      ]
    },
    {
      "cell_type": "code",
      "execution_count": null,
      "metadata": {
        "colab": {
          "background_save": true,
          "base_uri": "https://localhost:8080/"
        },
        "id": "wtMV_8dbjade",
        "outputId": "4fca5af3-de2b-4075-94ec-28bcc0875bca"
      },
      "outputs": [
        {
          "name": "stderr",
          "output_type": "stream",
          "text": [
            " 10%|█         | 1/10 [02:51<25:40, 171.20s/it]"
          ]
        },
        {
          "name": "stdout",
          "output_type": "stream",
          "text": [
            " epoch [0]:  \t lr: [0.005]  \n",
            "train_loss: 0.9445655345916748 \t valid_loss: 1.403616189956665 \t \n",
            "\n",
            "\n"
          ]
        },
        {
          "name": "stderr",
          "output_type": "stream",
          "text": [
            "\r 20%|██        | 2/10 [05:38<22:32, 169.04s/it]"
          ]
        },
        {
          "name": "stdout",
          "output_type": "stream",
          "text": [
            " epoch [1]:  \t lr: [0.005]  \n",
            "train_loss: 0.5856483578681946 \t valid_loss: 1.6152652502059937 \t \n",
            "\n",
            "\n"
          ]
        },
        {
          "name": "stderr",
          "output_type": "stream",
          "text": [
            "\r 30%|███       | 3/10 [08:26<19:40, 168.68s/it]"
          ]
        },
        {
          "name": "stdout",
          "output_type": "stream",
          "text": [
            " epoch [2]:  \t lr: [0.005]  \n",
            "train_loss: 0.4860480725765228 \t valid_loss: 2.5422205924987793 \t \n",
            "\n",
            "\n"
          ]
        },
        {
          "name": "stderr",
          "output_type": "stream",
          "text": [
            "\r 40%|████      | 4/10 [11:14<16:49, 168.28s/it]"
          ]
        },
        {
          "name": "stdout",
          "output_type": "stream",
          "text": [
            " epoch [3]:  \t lr: [0.0005]  \n",
            "train_loss: 0.3534965217113495 \t valid_loss: 2.474836587905884 \t \n",
            "\n",
            "\n"
          ]
        },
        {
          "name": "stderr",
          "output_type": "stream",
          "text": [
            "\r 50%|█████     | 5/10 [14:02<14:00, 168.08s/it]"
          ]
        },
        {
          "name": "stdout",
          "output_type": "stream",
          "text": [
            " epoch [4]:  \t lr: [0.0005]  \n",
            "train_loss: 0.33042678236961365 \t valid_loss: 2.764439344406128 \t \n",
            "\n",
            "\n"
          ]
        },
        {
          "name": "stderr",
          "output_type": "stream",
          "text": [
            "\r 60%|██████    | 6/10 [16:49<11:11, 167.92s/it]"
          ]
        },
        {
          "name": "stdout",
          "output_type": "stream",
          "text": [
            " epoch [5]:  \t lr: [0.0005]  \n",
            "train_loss: 0.3190670311450958 \t valid_loss: 2.6036949157714844 \t \n",
            "\n",
            "\n"
          ]
        },
        {
          "name": "stderr",
          "output_type": "stream",
          "text": [
            "\r 70%|███████   | 7/10 [19:38<08:24, 168.04s/it]"
          ]
        },
        {
          "name": "stdout",
          "output_type": "stream",
          "text": [
            " epoch [6]:  \t lr: [5e-05]  \n",
            "train_loss: 0.3062446117401123 \t valid_loss: 2.6718690395355225 \t \n",
            "\n",
            "\n"
          ]
        },
        {
          "name": "stderr",
          "output_type": "stream",
          "text": [
            "\r 80%|████████  | 8/10 [22:26<05:35, 168.00s/it]"
          ]
        },
        {
          "name": "stdout",
          "output_type": "stream",
          "text": [
            " epoch [7]:  \t lr: [5e-05]  \n",
            "train_loss: 0.3039996325969696 \t valid_loss: 2.7108922004699707 \t \n",
            "\n",
            "\n"
          ]
        },
        {
          "name": "stderr",
          "output_type": "stream",
          "text": [
            "\r 90%|█████████ | 9/10 [25:13<02:47, 167.84s/it]"
          ]
        },
        {
          "name": "stdout",
          "output_type": "stream",
          "text": [
            " epoch [8]:  \t lr: [5e-05]  \n",
            "train_loss: 0.3022426664829254 \t valid_loss: 2.7427611351013184 \t \n",
            "\n",
            "\n"
          ]
        },
        {
          "name": "stderr",
          "output_type": "stream",
          "text": [
            "100%|██████████| 10/10 [28:00<00:00, 168.07s/it]"
          ]
        },
        {
          "name": "stdout",
          "output_type": "stream",
          "text": [
            " epoch [9]:  \t lr: [5e-06]  \n",
            "train_loss: 0.3022397756576538 \t valid_loss: 2.6858341693878174 \t \n",
            "\n",
            "\n"
          ]
        },
        {
          "name": "stderr",
          "output_type": "stream",
          "text": [
            "\n"
          ]
        }
      ],
      "source": [
        "num_epochs = 10\n",
        "train_loss_values=[]\n",
        "valid_loss_values=[]\n",
        "train_mAPs=[]\n",
        "val_mAPs=[]\n",
        "for epoch in tqdm(range(num_epochs)):\n",
        "    #train_loss,valid_loss,train_map,val_map = train_one_epoch(model, optimizer, train_loader,valid_loader)\n",
        "    train_loss,valid_loss = train_one_epoch(model, optimizer, train_loader,valid_loader)\n",
        "\n",
        "    train_loss_values.append(train_loss.item())\n",
        "    valid_loss_values.append(valid_loss.item())\n",
        "    #train_mAPs.append(train_map)\n",
        "    #val_mAPs.append(val_map)\n",
        "    print(' epoch [{}]:  \\t lr: {}  \\ntrain_loss: {} \\t valid_loss: {} \\t \\n\\n'.format(epoch, lr_scheduler.get_last_lr(), train_loss,valid_loss))\n",
        "\n",
        "    #print(' epoch [{}]:  \\t lr: {}  \\ntrain_loss: {} \\t valid_loss: {} \\t train_mAP:{} \\t val_mAP:{} \\n\\n'.format(epoch, lr_scheduler.get_last_lr(), train_loss,valid_loss,train_map,val_map))\n",
        "    lr_scheduler.step()\n",
        "\n",
        "\n",
        "torch.save(model.state_dict(),'/content/drive/MyDrive/model/model.pt') # Save"
      ]
    },
    {
      "cell_type": "code",
      "execution_count": null,
      "metadata": {
        "colab": {
          "background_save": true,
          "base_uri": "https://localhost:8080/"
        },
        "id": "NDq4ruroEC5h",
        "outputId": "cecc02fb-a0df-49f8-8ce8-7a6e97703e64"
      },
      "outputs": [
        {
          "data": {
            "image/png": "[encoded data removed]",
            "text/plain": [
              "<Figure size 432x288 with 1 Axes>"
            ]
          },
          "metadata": {},
          "output_type": "display_data"
        }
      ],
      "source": [
        "plt.plot(range(num_epochs), train_loss_values, '-b', label='train_loss')\n",
        "plt.plot(range(num_epochs), valid_loss_values, '-r', label='valid_loss')\n",
        "\n",
        "plt.xlabel(\"n iteration\")\n",
        "plt.legend(loc='upper left')\n",
        "plt.title('Model Loss')\n",
        "plt.savefig('/content/drive/MyDrive/model/loss.png', bbox_inches='tight')\n",
        "plt.show()\n",
        "\n",
        "#plt.plot(range(num_epochs), train_mAPs, '-b', label='train_mAP')\n",
        "#plt.plot(range(num_epochs), val_mAPs, '-r', label='val_mAP')\n",
        "#plt.xlabel(\"n iteration\")\n",
        "\n",
        "#plt.legend(loc='upper left')\n",
        "#plt.title('Model mAP')\n",
        "#plt.savefig('/content/drive/MyDrive/model/mAP.png', bbox_inches='tight')\n",
        "#plt.show()"
      ]
    },
    {
      "cell_type": "code",
      "execution_count": null,
      "metadata": {
        "colab": {
          "background_save": true,
          "base_uri": "https://localhost:8080/"
        },
        "id": "y0uYy-vxWUlI",
        "outputId": "28da750d-0444-4791-c097-0a4cf13704b3"
      },
      "outputs": [
        {
          "data": {
            "text/plain": [
              "<All keys matched successfully>"
            ]
          },
          "execution_count": 24,
          "metadata": {},
          "output_type": "execute_result"
        }
      ],
      "source": [
        "model.load_state_dict(torch.load('/content/drive/MyDrive/model/model.pt'))"
      ]
    },
    {
      "cell_type": "code",
      "execution_count": null,
      "metadata": {
        "colab": {
          "background_save": true
        },
        "id": "K0Cu3J7_z7dV"
      },
      "outputs": [],
      "source": [
        "def evaluate(model, test_dataloader):\n",
        "    evaluate_maps=0\n",
        "    model.eval()\n",
        "    with torch.no_grad():\n",
        "        cnt = 0\n",
        "        for images , targets in test_dataloader:\n",
        "            images = list(image.to(device) for image in images)\n",
        "            targets = [{k: v.to(device) for k, v in t.items()} for t in targets]\n",
        "            out = model(images)\n",
        "            scores = out[0]['scores'].cpu().numpy()\n",
        "            inds = scores > 0.7\n",
        "            bxs = out[0]['boxes'].cpu().numpy()\n",
        "            bxs = bxs[inds]\n",
        "            gt = targets[0]['boxes'].cpu().numpy()\n",
        "            # gt = gt[0]\n",
        "            img = images[0].permute(1, 2, 0).cpu().numpy()\n",
        "            #----------------------------------------------------------\n",
        "            fig, ax = plt.subplots(figsize=(20, 20))\n",
        "            ax.imshow(img)\n",
        "            for j in range(len(gt)):\n",
        "                rect1 = patches.Rectangle((int(gt[j][0]),int(gt[j][1])),abs(gt[j][0]-gt[j][2]),\n",
        "                                abs(gt[j][1]-gt[j][3]),linewidth=2,edgecolor='g',facecolor='none')\n",
        "                ax.add_patch(rect1)\n",
        "            for i in range(len(bxs)):\n",
        "                rect = patches.Rectangle((int(bxs[i][0]),int(bxs[i][1])),abs(bxs[i][0]-bxs[i][2]),\n",
        "                                         abs(bxs[i][1]-bxs[i][3]),linewidth=1,edgecolor='r',facecolor='none')\n",
        "                ax.add_patch(rect)\n",
        "            fig.savefig(\"/content/drive/MyDrive/output_images/{}.png\".format(cnt), dpi=90, bbox_inches='tight')\n",
        "            plt.clf()\n",
        "            cnt = cnt + 1\n",
        "            evaluate_maps+=metric.compute()['map'].item()\n",
        "            metric.update(out, targets)\n",
        "        print(\"mAP (evaluate): \",evaluate_maps/len(test_dataloader))"
      ]
    },
    {
      "cell_type": "code",
      "execution_count": null,
      "metadata": {
        "id": "kQSNlkjPz9KR"
      },
      "outputs": [],
      "source": [
        "!rm /content/drive/MyDrive/output_images/*.*\n",
        "evaluate(model, valid_loader)"
      ]
    },
    {
      "cell_type": "code",
      "execution_count": null,
      "metadata": {
        "id": "82t3tNeZ1uO9"
      },
      "outputs": [],
      "source": [
        "img,gt=valid_dataset.__getitem__(1)\n",
        "fig, ax = plt.subplots(figsize=(20, 20))\n",
        "\n",
        "img=img.permute(1, 2, 0).cpu().numpy()\n",
        "print(img.shape)\n",
        "gt=gt['boxes'].cpu().numpy()\n",
        "w_img,h_img=img.shape[0],img.shape[1]\n",
        "ax.imshow(img)\n",
        "window_name = 'Image'\n",
        "for j in range(len(gt)):\n",
        "    yolo_bbox1 = (gt[j][0], gt[j][1], gt[j][2], gt[j][3])\n",
        "    x1, y1, x2, y2=(gt[j][0], gt[j][1], gt[j][2], gt[j][3])\n",
        "    rect1 = patches.Rectangle((x1,y1),abs(x1-x2),\n",
        "                               abs(y1-y2),linewidth=1,edgecolor='r',facecolor='none')\n",
        "    ax.add_patch(rect1)"
      ]
    }
  ],
  "metadata": {
    "accelerator": "GPU",
    "colab": {
      "provenance": []
    },
    "kernelspec": {
      "display_name": "Python 3",
      "name": "python3"
    },
    "language_info": {
      "name": "python"
    },
    "widgets": {
      "application/vnd.jupyter.widget-state+json": {
        "0172c15cbcfd410b8312f74ae56fa49f": {
          "model_module": "@jupyter-widgets/base",
          "model_module_version": "1.2.0",
          "model_name": "LayoutModel",
          "state": {
            "_model_module": "@jupyter-widgets/base",
            "_model_module_version": "1.2.0",
            "_model_name": "LayoutModel",
            "_view_count": null,
            "_view_module": "@jupyter-widgets/base",
            "_view_module_version": "1.2.0",
            "_view_name": "LayoutView",
            "align_content": null,
            "align_items": null,
            "align_self": null,
            "border": null,
            "bottom": null,
            "display": null,
            "flex": null,
            "flex_flow": null,
            "grid_area": null,
            "grid_auto_columns": null,
            "grid_auto_flow": null,
            "grid_auto_rows": null,
            "grid_column": null,
            "grid_gap": null,
            "grid_row": null,
            "grid_template_areas": null,
            "grid_template_columns": null,
            "grid_template_rows": null,
            "height": null,
            "justify_content": null,
            "justify_items": null,
            "left": null,
            "margin": null,
            "max_height": null,
            "max_width": null,
            "min_height": null,
            "min_width": null,
            "object_fit": null,
            "object_position": null,
            "order": null,
            "overflow": null,
            "overflow_x": null,
            "overflow_y": null,
            "padding": null,
            "right": null,
            "top": null,
            "visibility": null,
            "width": null
          }
        },
        "08b86d585d0e4f04af49c761647d24a6": {
          "model_module": "@jupyter-widgets/controls",
          "model_module_version": "1.5.0",
          "model_name": "HTMLModel",
          "state": {
            "_dom_classes": [],
            "_model_module": "@jupyter-widgets/controls",
            "_model_module_version": "1.5.0",
            "_model_name": "HTMLModel",
            "_view_count": null,
            "_view_module": "@jupyter-widgets/controls",
            "_view_module_version": "1.5.0",
            "_view_name": "HTMLView",
            "description": "",
            "description_tooltip": null,
            "layout": "IPY_MODEL_3482e6827d374d52bb2c78edf62109ad",
            "placeholder": "​",
            "style": "IPY_MODEL_618b48cbed3545b89c7e4e1a8bf556b7",
            "value": " 160M/160M [00:02&lt;00:00, 101MB/s]"
          }
        },
        "090bd994095641dca6ecad666d59c138": {
          "model_module": "@jupyter-widgets/controls",
          "model_module_version": "1.5.0",
          "model_name": "ProgressStyleModel",
          "state": {
            "_model_module": "@jupyter-widgets/controls",
            "_model_module_version": "1.5.0",
            "_model_name": "ProgressStyleModel",
            "_view_count": null,
            "_view_module": "@jupyter-widgets/base",
            "_view_module_version": "1.2.0",
            "_view_name": "StyleView",
            "bar_color": null,
            "description_width": ""
          }
        },
        "3482e6827d374d52bb2c78edf62109ad": {
          "model_module": "@jupyter-widgets/base",
          "model_module_version": "1.2.0",
          "model_name": "LayoutModel",
          "state": {
            "_model_module": "@jupyter-widgets/base",
            "_model_module_version": "1.2.0",
            "_model_name": "LayoutModel",
            "_view_count": null,
            "_view_module": "@jupyter-widgets/base",
            "_view_module_version": "1.2.0",
            "_view_name": "LayoutView",
            "align_content": null,
            "align_items": null,
            "align_self": null,
            "border": null,
            "bottom": null,
            "display": null,
            "flex": null,
            "flex_flow": null,
            "grid_area": null,
            "grid_auto_columns": null,
            "grid_auto_flow": null,
            "grid_auto_rows": null,
            "grid_column": null,
            "grid_gap": null,
            "grid_row": null,
            "grid_template_areas": null,
            "grid_template_columns": null,
            "grid_template_rows": null,
            "height": null,
            "justify_content": null,
            "justify_items": null,
            "left": null,
            "margin": null,
            "max_height": null,
            "max_width": null,
            "min_height": null,
            "min_width": null,
            "object_fit": null,
            "object_position": null,
            "order": null,
            "overflow": null,
            "overflow_x": null,
            "overflow_y": null,
            "padding": null,
            "right": null,
            "top": null,
            "visibility": null,
            "width": null
          }
        },
        "389dfcb346e146359d9724c907c43e0a": {
          "model_module": "@jupyter-widgets/controls",
          "model_module_version": "1.5.0",
          "model_name": "HBoxModel",
          "state": {
            "_dom_classes": [],
            "_model_module": "@jupyter-widgets/controls",
            "_model_module_version": "1.5.0",
            "_model_name": "HBoxModel",
            "_view_count": null,
            "_view_module": "@jupyter-widgets/controls",
            "_view_module_version": "1.5.0",
            "_view_name": "HBoxView",
            "box_style": "",
            "children": [
              "IPY_MODEL_d7c35cc1a11c4a02bd8540beb1e64deb",
              "IPY_MODEL_4ef9d029058d412d8a60092c02f12b38",
              "IPY_MODEL_08b86d585d0e4f04af49c761647d24a6"
            ],
            "layout": "IPY_MODEL_ebb74caa5ae54fa8b671e11ab389566f"
          }
        },
        "4ef9d029058d412d8a60092c02f12b38": {
          "model_module": "@jupyter-widgets/controls",
          "model_module_version": "1.5.0",
          "model_name": "FloatProgressModel",
          "state": {
            "_dom_classes": [],
            "_model_module": "@jupyter-widgets/controls",
            "_model_module_version": "1.5.0",
            "_model_name": "FloatProgressModel",
            "_view_count": null,
            "_view_module": "@jupyter-widgets/controls",
            "_view_module_version": "1.5.0",
            "_view_name": "ProgressView",
            "bar_style": "success",
            "description": "",
            "description_tooltip": null,
            "layout": "IPY_MODEL_0172c15cbcfd410b8312f74ae56fa49f",
            "max": 167502836,
            "min": 0,
            "orientation": "horizontal",
            "style": "IPY_MODEL_090bd994095641dca6ecad666d59c138",
            "value": 167502836
          }
        },
        "5540a821425b42c684a6b81f40b31665": {
          "model_module": "@jupyter-widgets/controls",
          "model_module_version": "1.5.0",
          "model_name": "DescriptionStyleModel",
          "state": {
            "_model_module": "@jupyter-widgets/controls",
            "_model_module_version": "1.5.0",
            "_model_name": "DescriptionStyleModel",
            "_view_count": null,
            "_view_module": "@jupyter-widgets/base",
            "_view_module_version": "1.2.0",
            "_view_name": "StyleView",
            "description_width": ""
          }
        },
        "618b48cbed3545b89c7e4e1a8bf556b7": {
          "model_module": "@jupyter-widgets/controls",
          "model_module_version": "1.5.0",
          "model_name": "DescriptionStyleModel",
          "state": {
            "_model_module": "@jupyter-widgets/controls",
            "_model_module_version": "1.5.0",
            "_model_name": "DescriptionStyleModel",
            "_view_count": null,
            "_view_module": "@jupyter-widgets/base",
            "_view_module_version": "1.2.0",
            "_view_name": "StyleView",
            "description_width": ""
          }
        },
        "d7c35cc1a11c4a02bd8540beb1e64deb": {
          "model_module": "@jupyter-widgets/controls",
          "model_module_version": "1.5.0",
          "model_name": "HTMLModel",
          "state": {
            "_dom_classes": [],
            "_model_module": "@jupyter-widgets/controls",
            "_model_module_version": "1.5.0",
            "_model_name": "HTMLModel",
            "_view_count": null,
            "_view_module": "@jupyter-widgets/controls",
            "_view_module_version": "1.5.0",
            "_view_name": "HTMLView",
            "description": "",
            "description_tooltip": null,
            "layout": "IPY_MODEL_e254392fc242426ca953e846e9950f60",
            "placeholder": "​",
            "style": "IPY_MODEL_5540a821425b42c684a6b81f40b31665",
            "value": "100%"
          }
        },
        "e254392fc242426ca953e846e9950f60": {
          "model_module": "@jupyter-widgets/base",
          "model_module_version": "1.2.0",
          "model_name": "LayoutModel",
          "state": {
            "_model_module": "@jupyter-widgets/base",
            "_model_module_version": "1.2.0",
            "_model_name": "LayoutModel",
            "_view_count": null,
            "_view_module": "@jupyter-widgets/base",
            "_view_module_version": "1.2.0",
            "_view_name": "LayoutView",
            "align_content": null,
            "align_items": null,
            "align_self": null,
            "border": null,
            "bottom": null,
            "display": null,
            "flex": null,
            "flex_flow": null,
            "grid_area": null,
            "grid_auto_columns": null,
            "grid_auto_flow": null,
            "grid_auto_rows": null,
            "grid_column": null,
            "grid_gap": null,
            "grid_row": null,
            "grid_template_areas": null,
            "grid_template_columns": null,
            "grid_template_rows": null,
            "height": null,
            "justify_content": null,
            "justify_items": null,
            "left": null,
            "margin": null,
            "max_height": null,
            "max_width": null,
            "min_height": null,
            "min_width": null,
            "object_fit": null,
            "object_position": null,
            "order": null,
            "overflow": null,
            "overflow_x": null,
            "overflow_y": null,
            "padding": null,
            "right": null,
            "top": null,
            "visibility": null,
            "width": null
          }
        },
        "ebb74caa5ae54fa8b671e11ab389566f": {
          "model_module": "@jupyter-widgets/base",
          "model_module_version": "1.2.0",
          "model_name": "LayoutModel",
          "state": {
            "_model_module": "@jupyter-widgets/base",
            "_model_module_version": "1.2.0",
            "_model_name": "LayoutModel",
            "_view_count": null,
            "_view_module": "@jupyter-widgets/base",
            "_view_module_version": "1.2.0",
            "_view_name": "LayoutView",
            "align_content": null,
            "align_items": null,
            "align_self": null,
            "border": null,
            "bottom": null,
            "display": null,
            "flex": null,
            "flex_flow": null,
            "grid_area": null,
            "grid_auto_columns": null,
            "grid_auto_flow": null,
            "grid_auto_rows": null,
            "grid_column": null,
            "grid_gap": null,
            "grid_row": null,
            "grid_template_areas": null,
            "grid_template_columns": null,
            "grid_template_rows": null,
            "height": null,
            "justify_content": null,
            "justify_items": null,
            "left": null,
            "margin": null,
            "max_height": null,
            "max_width": null,
            "min_height": null,
            "min_width": null,
            "object_fit": null,
            "object_position": null,
            "order": null,
            "overflow": null,
            "overflow_x": null,
            "overflow_y": null,
            "padding": null,
            "right": null,
            "top": null,
            "visibility": null,
            "width": null
          }
        }
      }
    }
  },
  "nbformat": 4,
  "nbformat_minor": 0
}